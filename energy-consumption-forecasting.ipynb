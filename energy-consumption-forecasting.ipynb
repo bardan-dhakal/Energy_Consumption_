{
 "cells": [
  {
   "cell_type": "code",
   "execution_count": 1,
   "id": "64f210d8",
   "metadata": {
    "execution": {
     "iopub.execute_input": "2024-11-26T04:42:40.398010Z",
     "iopub.status.busy": "2024-11-26T04:42:40.397316Z",
     "iopub.status.idle": "2024-11-26T04:42:44.381400Z",
     "shell.execute_reply": "2024-11-26T04:42:44.380461Z"
    },
    "papermill": {
     "duration": 3.991338,
     "end_time": "2024-11-26T04:42:44.383966",
     "exception": false,
     "start_time": "2024-11-26T04:42:40.392628",
     "status": "completed"
    },
    "tags": []
   },
   "outputs": [],
   "source": [
    "import pandas as pd\n",
    "import numpy as np\n",
    "import matplotlib as plt\n",
    "import seaborn as sns\n",
    "\n",
    "import xgboost as xgb"
   ]
  },
  {
   "cell_type": "code",
   "execution_count": 2,
   "id": "2fac8a44",
   "metadata": {
    "execution": {
     "iopub.execute_input": "2024-11-26T04:42:44.389802Z",
     "iopub.status.busy": "2024-11-26T04:42:44.389257Z",
     "iopub.status.idle": "2024-11-26T04:42:44.579181Z",
     "shell.execute_reply": "2024-11-26T04:42:44.577972Z"
    },
    "papermill": {
     "duration": 0.19553,
     "end_time": "2024-11-26T04:42:44.581672",
     "exception": false,
     "start_time": "2024-11-26T04:42:44.386142",
     "status": "completed"
    },
    "tags": []
   },
   "outputs": [],
   "source": [
    "df = pd.read_csv('/kaggle/input/hourly-energy-consumption/PJME_hourly.csv')"
   ]
  },
  {
   "cell_type": "code",
   "execution_count": null,
   "id": "21df85bf",
   "metadata": {
    "papermill": {
     "duration": 0.00139,
     "end_time": "2024-11-26T04:42:44.585009",
     "exception": false,
     "start_time": "2024-11-26T04:42:44.583619",
     "status": "completed"
    },
    "tags": []
   },
   "outputs": [],
   "source": []
  }
 ],
 "metadata": {
  "kaggle": {
   "accelerator": "none",
   "dataSources": [
    {
     "datasetId": 48149,
     "sourceId": 87794,
     "sourceType": "datasetVersion"
    }
   ],
   "dockerImageVersionId": 30786,
   "isGpuEnabled": false,
   "isInternetEnabled": false,
   "language": "python",
   "sourceType": "notebook"
  },
  "kernelspec": {
   "display_name": "Python 3",
   "language": "python",
   "name": "python3"
  },
  "language_info": {
   "codemirror_mode": {
    "name": "ipython",
    "version": 3
   },
   "file_extension": ".py",
   "mimetype": "text/x-python",
   "name": "python",
   "nbconvert_exporter": "python",
   "pygments_lexer": "ipython3",
   "version": "3.10.14"
  },
  "papermill": {
   "default_parameters": {},
   "duration": 7.902096,
   "end_time": "2024-11-26T04:42:45.308237",
   "environment_variables": {},
   "exception": null,
   "input_path": "__notebook__.ipynb",
   "output_path": "__notebook__.ipynb",
   "parameters": {},
   "start_time": "2024-11-26T04:42:37.406141",
   "version": "2.6.0"
  }
 },
 "nbformat": 4,
 "nbformat_minor": 5
}
